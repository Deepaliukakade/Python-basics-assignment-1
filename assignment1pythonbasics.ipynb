{
 "cells": [
  {
   "cell_type": "code",
   "execution_count": 3,
   "id": "49679f87-e296-4e47-a7db-8e4f82e0a86e",
   "metadata": {},
   "outputs": [
    {
     "name": "stdout",
     "output_type": "stream",
     "text": [
      "My name is deepali\n",
      "[1, 2, 3, 4, 5]\n",
      "88.77\n",
      "(10, 20, 30)\n"
     ]
    }
   ],
   "source": [
    "#Q1. Create one variable containing following type of data:\n",
    "#(i) string\n",
    "#(ii) list\n",
    "#(iii) float\n",
    "#(iv) tuple\n",
    "#answer=\n",
    "#You can create a single variable containing multiple data types by using a Python dictionary. Here's an example:\n",
    "str=\"My name is deepali\"\n",
    "list=[1,2,3,4,5]\n",
    "float=88.77\n",
    "tuple=(10,20,30)\n",
    "print(str)\n",
    "print(list)\n",
    "print(float)\n",
    "print(tuple)\n",
    "#you can access them like this"
   ]
  },
  {
   "cell_type": "code",
   "execution_count": 6,
   "id": "dc1847d0-2038-45a1-8259-7cc7a2fa58ec",
   "metadata": {},
   "outputs": [
    {
     "name": "stdout",
     "output_type": "stream",
     "text": [
      "<class 'str'>\n",
      "<class 'str'>\n",
      "<class 'list'>\n",
      "<class 'float'>\n"
     ]
    }
   ],
   "source": [
    "#Q2. Given are some following variables containing data:\n",
    "#(i) var1 = ‘ ‘\n",
    "#(ii) var2 = ‘[ DS , ML , Python]’\n",
    "#iii) var3 = [ ‘DS’ , ’ML’ , ‘Python’ ]\n",
    "#(iv) var4 = 1.\n",
    "#What will be the data type of the above given variable.\n",
    "#answer=\n",
    "var1=' '               #empty space inside qoutes\n",
    "var2='[DS,ML,Python]'  #actually its string but looks like list\n",
    "var3=['DS','ML','Python']   #a list of string\n",
    "var4=1.                  #a float value\n",
    "print(type(var1))\n",
    "print(type(var2))\n",
    "print(type(var3))\n",
    "print(type(var4))\n",
    "#finally\n",
    "#var1=str(string)\n",
    "#var2=str(string)\n",
    "#var3=list(list)\n",
    "#var4=float(floating point number)"
   ]
  },
  {
   "cell_type": "code",
   "execution_count": 10,
   "id": "9a09742b-bf06-4a83-9e73-9fa31c02d74b",
   "metadata": {},
   "outputs": [
    {
     "name": "stdout",
     "output_type": "stream",
     "text": [
      "83.33333333333333\n",
      "2\n",
      "83\n",
      "15625000000000000\n"
     ]
    }
   ],
   "source": [
    "'''Q3. Explain the use of the following operators using an example:\n",
    "(i) /\n",
    "(ii) %\n",
    "(iii) //\n",
    "(iv) **\n",
    "answer=\n",
    "Explanation of Operators with Examples\n",
    "(1) / (Division Operator)\n",
    "It performs normal division and returns the result as a floating-point number.\n",
    "Example:'''\n",
    "marks= 500/6\n",
    "print(marks)\n",
    "'''(2) % (Modulus Operator)\n",
    "It returns the remainder after division.\n",
    "Example:'''\n",
    "marks= 500%6\n",
    "print(marks)\n",
    "'''(3) // (Floor Division Operator)\n",
    "It performs integer division (floor division) and returns the quotient as an integer (without the decimal part).\n",
    "Example:'''\n",
    "marks= 500//6\n",
    "print(marks)\n",
    "'''(4) ** (Exponentiation Operator)\n",
    "It is used to calculate the power of a number.\n",
    "Example:'''\n",
    "marks= 500**6\n",
    "print(marks)"
   ]
  },
  {
   "cell_type": "code",
   "execution_count": 23,
   "id": "93983606-4aa9-4b7d-8829-c6e6c17d216e",
   "metadata": {},
   "outputs": [
    {
     "name": "stdout",
     "output_type": "stream",
     "text": [
      "Element: DEEPALI, Type: <class 'str'>\n",
      "Element: 111, Type: <class 'int'>\n",
      "Element: 3.14, Type: <class 'float'>\n",
      "Element: False, Type: <class 'bool'>\n",
      "Element: [1, 2, 3], Type: <class 'list'>\n",
      "Element: (4, 5, 6), Type: <class 'tuple'>\n",
      "Element: HOME, Type: <class 'str'>\n",
      "Element: None, Type: <class 'NoneType'>\n",
      "Element: (8+2j), Type: <class 'complex'>\n",
      "Element: india(type), Type: <class 'str'>\n"
     ]
    }
   ],
   "source": [
    "'''Create a list of length 10 of your choice containing multiple types of data. Using for loop print the\n",
    "element and its data type.\n",
    "Answer=\n",
    "Create a list of length 10 of your choice containing multiple types of data. Using for loop print the\n",
    "element and its data type.'''\n",
    "my_list = [\"DEEPALI\",111, 3.14, False, [1, 2, 3], (4, 5, 6), (\"HOME\"), None, complex(8+2j), \"india(type)\"]\n",
    "for item in my_list:\n",
    "    print(f\"Element: {item}, Type: {type(item)}\")\n",
    "    \n",
    "\n"
   ]
  },
  {
   "cell_type": "code",
   "execution_count": 2,
   "id": "f5b02675-8238-49b5-a9b1-015147b49eef",
   "metadata": {},
   "outputs": [
    {
     "name": "stdin",
     "output_type": "stream",
     "text": [
      "Enter the value of A: 80\n",
      "Enter the value of B: 10\n"
     ]
    },
    {
     "name": "stdout",
     "output_type": "stream",
     "text": [
      "A is divisible by B 1 times.\n"
     ]
    }
   ],
   "source": [
    "'''Q5.Using a while loop, verify if the number A is purely divisible by number B and if so then how many\n",
    "times it can be divisible.\n",
    "Answer=\n",
    "Here's a Python program that uses a while loop to check if A is purely divisible by B and counts how many times it can be divide:'''\n",
    "A=int(input(\"Enter the value of A:\"))\n",
    "B=int(input(\"Enter the value of B:\"))\n",
    "count = 0\n",
    "while A % B == 0:\n",
    "    A = A // B\n",
    "    count+=1\n",
    "    \n",
    "    if count > 0:\n",
    "        print(f\"A is divisible by B {count} times.\")\n",
    "    else:\n",
    "        print(\"A is not divisible by B\")"
   ]
  },
  {
   "cell_type": "code",
   "execution_count": 3,
   "id": "ff149d64-39eb-4664-a163-5dedb007251e",
   "metadata": {},
   "outputs": [
    {
     "name": "stdout",
     "output_type": "stream",
     "text": [
      " 3 is divisible by 3\n",
      " 7 is NOT divisible by 3\n",
      " 9 is divisible by 3\n",
      " 12 is divisible by 3\n",
      " 18 is divisible by 3\n",
      " 21 is divisible by 3\n",
      " 25 is NOT divisible by 3\n",
      " 30 is divisible by 3\n",
      " 33 is divisible by 3\n",
      " 36 is divisible by 3\n",
      " 40 is NOT divisible by 3\n",
      " 42 is divisible by 3\n",
      " 45 is divisible by 3\n",
      " 50 is NOT divisible by 3\n",
      " 54 is divisible by 3\n",
      " 60 is divisible by 3\n",
      " 63 is divisible by 3\n",
      " 66 is divisible by 3\n",
      " 70 is NOT divisible by 3\n",
      " 72 is divisible by 3\n",
      " 75 is divisible by 3\n",
      " 80 is NOT divisible by 3\n",
      " 81 is divisible by 3\n",
      " 90 is divisible by 3\n",
      " 99 is divisible by 3\n"
     ]
    }
   ],
   "source": [
    "'''Q6. Create a list containing 25 int type data. Using for loop and if-else condition print if the element is\n",
    "divisible by 3 or not.\n",
    "Answer=\n",
    "Here's a Python program that creates a list of 25 integer values and checks if each element is divisible by 3 using a for loop and if-else condition:'''\n",
    "num_list = [3, 7, 9, 12, 18, 21, 25, 30, 33, 36, 40, 42, 45, 50, 54, 60, 63, 66, 70, 72, 75, 80, 81, 90, 99]\n",
    "for num in num_list:\n",
    "    if num % 3 == 0:\n",
    "        print(f\" {num} is divisible by 3\")\n",
    "    else:\n",
    "        print(f\" {num} is NOT divisible by 3\")"
   ]
  },
  {
   "cell_type": "code",
   "execution_count": 5,
   "id": "dd8795eb-6680-4c34-8b36-c1e249c107bc",
   "metadata": {},
   "outputs": [
    {
     "name": "stdout",
     "output_type": "stream",
     "text": [
      "Before modification: [55, 87, 77]\n",
      "After modification: [55, 100, 77]\n",
      "Before modification: I am ds student\n",
      "After modification: I am ds student of pwskills\n"
     ]
    }
   ],
   "source": [
    "'''Q7. What do you understand about mutable and immutable data types? Give examples for both showing\n",
    "this property.\n",
    "Answer==\n",
    "Mutable vs Immutable Data Types in Python\n",
    "In Python, data types are classified as mutable or immutable based on whether their values can be changed after creation.\n",
    "1 Mutable Data Types\n",
    "Mutable objects allow modification after creation.\n",
    "Changing the value does not create a new object in memory.\n",
    "Examples: list, dict, set, bytearray\n",
    "Example: Mutable (List)'''\n",
    "my_list = [55, 87, 77]\n",
    "print(\"Before modification:\", my_list)\n",
    "my_list[1] = 100\n",
    "print(\"After modification:\", my_list)\n",
    "'''The list was modified in place, proving that lists are mutable.\n",
    "Immutable Data Types\n",
    "Immutable objects cannot be modified after creation.\n",
    "Any change creates a new object in memory.\n",
    "Examples: int, float, tuple, str, frozenset, bytes\n",
    "Example: Immutable (String)'''\n",
    "my_string = (\"I am ds student\")\n",
    "print(\"Before modification:\", my_string)\n",
    "my_string = my_string + \" of pwskills\"\n",
    "print(\"After modification:\", my_string)\n",
    "#A new string object was created instead of modifying the original one.\n",
    "\n",
    "\n",
    "\n",
    "\n",
    "\n",
    "\n"
   ]
  },
  {
   "cell_type": "code",
   "execution_count": null,
   "id": "c8697674-1eb5-4ae4-932c-f44acd373276",
   "metadata": {},
   "outputs": [],
   "source": []
  },
  {
   "cell_type": "code",
   "execution_count": null,
   "id": "e7ead14a-d344-4847-bbb7-e6e71b401cf0",
   "metadata": {},
   "outputs": [],
   "source": []
  }
 ],
 "metadata": {
  "kernelspec": {
   "display_name": "Python 3 (ipykernel)",
   "language": "python",
   "name": "python3"
  },
  "language_info": {
   "codemirror_mode": {
    "name": "ipython",
    "version": 3
   },
   "file_extension": ".py",
   "mimetype": "text/x-python",
   "name": "python",
   "nbconvert_exporter": "python",
   "pygments_lexer": "ipython3",
   "version": "3.12.7"
  }
 },
 "nbformat": 4,
 "nbformat_minor": 5
}
